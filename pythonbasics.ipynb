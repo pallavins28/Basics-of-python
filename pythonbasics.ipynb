{
  "nbformat": 4,
  "nbformat_minor": 0,
  "metadata": {
    "colab": {
      "provenance": []
    },
    "kernelspec": {
      "name": "python3",
      "display_name": "Python 3"
    },
    "language_info": {
      "name": "python"
    }
  },
  "cells": [
    {
      "cell_type": "markdown",
      "source": [
        "#Basics of python\n"
      ],
      "metadata": {
        "id": "84RaSRFyFOjM"
      }
    },
    {
      "cell_type": "markdown",
      "source": [
        "**1.What is Python, and why is it popular?**\n",
        "\n",
        "  --> Python is a programming language that is easy to understand and write, making it a popular choice among developers and programmers.\n",
        "\n",
        "  Python is popular due to its easy-to-read syntax, versatility, and extensive libraries for various applications like data science, web development, and AI. Its strong community support and wide adoption across industries make it a top choice for developers.\n",
        "\n",
        "**2. What is an interpreter in Python?**\n",
        "\n",
        "  --> An interpreter in Python is a program that executes code line by line, converting it into machine-readable instructions. It allows for interactive coding and debugging without needing a separate compilation step.\n",
        "\n",
        "\n",
        "**3. What are pre-defined keywords in python?**\n",
        "\n",
        "-->Keywords are reserved words in Python that have special meanings and cannot be used as identifiers (variable names, function names, etc.).\n",
        "Examples of keywords include if, else, while, for, def, class, import, try, except, return, True, False, None, etc.\n",
        "Keywords are case-sensitive and cannot be redefined or overridden within a Python program.\n",
        "\n",
        "**4. Can keywords be used as variables names?**\n",
        "\n",
        "-->No, keywords cannot be used as variable names in Python because they are reserved words that have special meanings in the language. Using a keyword as a variable name will result in a SyntaxError.\n",
        "\n",
        "**5. What is mutability in python?**\n",
        "\n",
        "--> In Python, objects can be either changeable (modifiable) or unchangeable (unchangeable).\n",
        "Mutable objects, such as lists and dictionaries, can be modified after creation, while immutable objects, such as tuples and strings, cannot.\n",
        "Mutability affects how objects are stored and manipulated in memory, impacting performance, memory usage, and concurrency in Python programs.\n",
        "\n",
        "**6. Why are lists mutable, but tuples are immutable?**\n",
        "\n",
        "--> Lists are mutable because they store references to objects, allowing modifications like adding, removing, or changing elements. Tuples are immutable because they are designed to ensure data integrity by preventing any modifications after creation.\n",
        "\n",
        "**7. What is the difference between \"==\" and \"is\" operators in python?**\n",
        "\n",
        "-->  == (Equality Operator) checks if the values of two objects are the same. and  \n",
        "is (Identity Operator) checks if two objects refer to the same memory location.\n",
        "\n",
        "**8. What are logical operator in python?**\n",
        "\n",
        "--> Logical operators in Python are and, or, and not, used to combine or modify boolean conditions. and returns True if both conditions are true, or returns True if at least one condition is true, and not negates the condition.\n",
        "\n",
        "**9. What is type casting in Python?**\n",
        "\n",
        "--> Type casting, also referred to as type conversion, is the process of changing one data type to another in Python.\n",
        "Python provides built-in functions for type casting, such as int(), float(), str(), list(), tuple(), dict(), etc.\n",
        "Type casting is often necessary for performing arithmetic operations, data manipulation, and input/output operations in Python programs.\n",
        "\n",
        "**10. What is the difference between implicit and explicit type casting?**\n",
        "\n",
        "--> Implicit type casting (or coercion) happens automatically by Python when converting one data type to another, like from int to float.\n",
        "\n",
        "Explicit type casting requires the programmer to manually convert data types using functions like int(), float(), or str().\n",
        "\n",
        "**11. What is the purpose of conditional statements in Python?**\n",
        "\n",
        "--> Conditionals in Python are used to execute code based on the evaluation of one or more conditions.\n",
        "Python supports conditional statements such as if, elif (else if), and else to control the flow of execution.\n",
        "Conditionals can be nested to handle multiple conditions and control different branches of execution based on the outcome of logical expressions.\n",
        "\n",
        "**12. How does elif statement work?**\n",
        "\n",
        "--> The elif (short for \"else if\") statement in Python is used to check multiple conditions in sequence. If the initial if condition is False, it evaluates the next elif condition, and if that is True, it executes the corresponding block of code. If no conditions are met, the else block is executed (if provided).\n",
        "\n",
        "**13. What is the difference between for and while loops?**\n",
        "\n",
        "--> Python offers two primary types of loops: for loops and while loops.\n",
        "“for” loops are used for iterating over a sequence of elements, while “while” loops are used for executing code until a specified condition becomes False\n",
        "\n",
        "**14. Describe a scenario where a while loop is more suitable than a for loop?**\n",
        "\n",
        "--> A while loop is more suitable when the number of iterations is not known beforehand and depends on a condition that may change during the execution. For example, if you're building a game where the player keeps guessing a number until they get it right, a while loop works better since it will continue running until the correct guess is made, without knowing how many guesses that will take."
      ],
      "metadata": {
        "id": "nesGYYIFFeCi"
      }
    },
    {
      "cell_type": "code",
      "execution_count": 22,
      "metadata": {
        "colab": {
          "base_uri": "https://localhost:8080/"
        },
        "id": "jzMhZNyYEpNJ",
        "outputId": "392f7c17-6547-45cb-882e-ef41e7432044"
      },
      "outputs": [
        {
          "output_type": "stream",
          "name": "stdout",
          "text": [
            "Hello World!\n"
          ]
        }
      ],
      "source": [
        " #1 write a python program to print \"Hello World!\"\n",
        " print(\"Hello World!\")"
      ]
    },
    {
      "cell_type": "code",
      "source": [
        "#2 write a python program that displays your name and age.\n",
        "name = \"Pallavi\"\n",
        "age = 25\n",
        "\n",
        "print(\"Name:\", name)\n",
        "print(\"Age:\", age)"
      ],
      "metadata": {
        "colab": {
          "base_uri": "https://localhost:8080/"
        },
        "id": "7J5KQZ1pNrqt",
        "outputId": "bf7dc666-16ea-4aae-e004-3112aed83c7e"
      },
      "execution_count": 2,
      "outputs": [
        {
          "output_type": "stream",
          "name": "stdout",
          "text": [
            "Name: Pallavi\n",
            "Age: 25\n"
          ]
        }
      ]
    },
    {
      "cell_type": "code",
      "source": [
        "#3 Write code to  print all the pre-defined keywords in Python using keyword library.\n",
        "import keyword\n",
        "print(keyword.kwlist)"
      ],
      "metadata": {
        "colab": {
          "base_uri": "https://localhost:8080/"
        },
        "id": "fz-duJrAOTUA",
        "outputId": "ceb1f9fd-6be0-417a-af52-92e6ae60201a"
      },
      "execution_count": 3,
      "outputs": [
        {
          "output_type": "stream",
          "name": "stdout",
          "text": [
            "['False', 'None', 'True', 'and', 'as', 'assert', 'async', 'await', 'break', 'class', 'continue', 'def', 'del', 'elif', 'else', 'except', 'finally', 'for', 'from', 'global', 'if', 'import', 'in', 'is', 'lambda', 'nonlocal', 'not', 'or', 'pass', 'raise', 'return', 'try', 'while', 'with', 'yield']\n"
          ]
        }
      ]
    },
    {
      "cell_type": "code",
      "source": [
        "#4. Write a program that checks if a given word is a python keyword.\n",
        "import keyword\n",
        "\n",
        "word = input(\"Enter a word: \")\n",
        "\n",
        "if keyword.iskeyword(word):\n",
        "    print(\"It's a Python keyword.\")\n",
        "else:\n",
        "    print(\"It's not a Python keyword.\")"
      ],
      "metadata": {
        "colab": {
          "base_uri": "https://localhost:8080/"
        },
        "id": "fGi4FVzGO3Rh",
        "outputId": "6a9377fa-8b51-49e7-ce2f-710ddef058d4"
      },
      "execution_count": 5,
      "outputs": [
        {
          "output_type": "stream",
          "name": "stdout",
          "text": [
            "Enter a word: as\n",
            "It's a Python keyword.\n"
          ]
        }
      ]
    },
    {
      "cell_type": "code",
      "source": [
        "#5. Create a list and tuple in Python, and demonstrate how attempting to change an element works differently for each.\n",
        "\n",
        "my_list = [1, 2, 3, 4]\n",
        "\n",
        "my_tuple = (1, 2, 3, 4)\n",
        "\n",
        "my_list[0] = 10\n",
        "print(\"Updated list:\", my_list)\n",
        "\n",
        "try:\n",
        "    my_tuple[0] = 10\n",
        "except TypeError as e:\n",
        "    print(\"Error:\", e)"
      ],
      "metadata": {
        "colab": {
          "base_uri": "https://localhost:8080/"
        },
        "id": "tzHUNGblPeAr",
        "outputId": "ce498037-2558-4978-9fcb-bdaa7e579122"
      },
      "execution_count": 6,
      "outputs": [
        {
          "output_type": "stream",
          "name": "stdout",
          "text": [
            "Updated list: [10, 2, 3, 4]\n",
            "Error: 'tuple' object does not support item assignment\n"
          ]
        }
      ]
    },
    {
      "cell_type": "code",
      "source": [
        "#6. Write a fucntion to demonstrate the behaviour of mutable and immutable arguements.\n",
        "def demonstrate_mutability(mutable_arg, immutable_arg):\n",
        "    mutable_arg.append(4)\n",
        "    print(\"Modified mutable argument:\", mutable_arg)\n",
        "\n",
        "    immutable_arg = 10\n",
        "    print(\"Modified immutable argument:\", immutable_arg)\n",
        "\n",
        "my_list = [1, 2, 3]\n",
        "my_int = 5\n",
        "\n",
        "demonstrate_mutability(my_list, my_int)\n",
        "\n",
        "print(\"Mutable argument outside function:\", my_list)\n",
        "print(\"Immutable argument outside function:\", my_int)"
      ],
      "metadata": {
        "colab": {
          "base_uri": "https://localhost:8080/"
        },
        "id": "ypvDKuJWQRjh",
        "outputId": "18eb87b2-522a-45e1-8f18-b180343e0a73"
      },
      "execution_count": 7,
      "outputs": [
        {
          "output_type": "stream",
          "name": "stdout",
          "text": [
            "Modified mutable argument: [1, 2, 3, 4]\n",
            "Modified immutable argument: 10\n",
            "Mutable argument outside function: [1, 2, 3, 4]\n",
            "Immutable argument outside function: 5\n"
          ]
        }
      ]
    },
    {
      "cell_type": "code",
      "source": [
        "#7. Write a fucntion to demonstrate the behaviour of mutable and immutable arguements.\n",
        "def demonstrate_mutability(mutable_arg, immutable_arg):\n",
        "    mutable_arg.append(4)\n",
        "    print(\"Modified mutable argument:\", mutable_arg)\n",
        "\n",
        "    immutable_arg = 10\n",
        "    print(\"Modified immutable argument:\", immutable_arg)\n",
        "\n",
        "my_list = [1, 2, 3]\n",
        "my_int = 5\n",
        "\n",
        "demonstrate_mutability(my_list, my_int)\n",
        "\n",
        "print(\"Mutable argument outside function:\", my_list)\n",
        "print(\"Immutable argument outside function:\", my_int)"
      ],
      "metadata": {
        "colab": {
          "base_uri": "https://localhost:8080/"
        },
        "id": "7lrxpjOLREbB",
        "outputId": "89c753ec-a196-40a0-f320-ecdf6261aa32"
      },
      "execution_count": 8,
      "outputs": [
        {
          "output_type": "stream",
          "name": "stdout",
          "text": [
            "Modified mutable argument: [1, 2, 3, 4]\n",
            "Modified immutable argument: 10\n",
            "Mutable argument outside function: [1, 2, 3, 4]\n",
            "Immutable argument outside function: 5\n"
          ]
        }
      ]
    },
    {
      "cell_type": "code",
      "source": [
        "#8. write a program to demonstrate the use of logical operators.\n",
        "a = True\n",
        "b = False\n",
        "print(\"a and b:\", a and b)\n",
        "print(\"a or b:\", a or b)\n",
        "print(\"not a:\", not a)\n",
        "print(\"a and (b or not a):\", a and (b or not a))"
      ],
      "metadata": {
        "colab": {
          "base_uri": "https://localhost:8080/"
        },
        "id": "U_IwrqiRRIz9",
        "outputId": "668e97e8-2fe2-4310-d053-c4cd0b43361c"
      },
      "execution_count": 9,
      "outputs": [
        {
          "output_type": "stream",
          "name": "stdout",
          "text": [
            "a and b: False\n",
            "a or b: True\n",
            "not a: False\n",
            "a and (b or not a): False\n"
          ]
        }
      ]
    },
    {
      "cell_type": "code",
      "source": [
        "#9. Write a python program to convert user input from string to integer, float and boolean types.\n",
        "\n",
        "user_input = input(\"Enter a value: \")\n",
        "\n",
        "int_value = int(user_input)\n",
        "print(\"Converted to integer:\", int_value)\n",
        "\n",
        "float_value = float(user_input)\n",
        "print(\"Converted to float:\", float_value)\n",
        "\n",
        "bool_value = bool(user_input)\n",
        "print(\"Converted to boolean:\", bool_value)"
      ],
      "metadata": {
        "colab": {
          "base_uri": "https://localhost:8080/"
        },
        "id": "yhGEMmKQRmKr",
        "outputId": "d65a7795-d21b-4bb0-e7ae-be352f19f4b9"
      },
      "execution_count": 12,
      "outputs": [
        {
          "output_type": "stream",
          "name": "stdout",
          "text": [
            "Enter a value: 10\n",
            "Converted to integer: 10\n",
            "Converted to float: 10.0\n",
            "Converted to boolean: True\n"
          ]
        }
      ]
    },
    {
      "cell_type": "code",
      "source": [
        "#10. Write a code to demonstrate type casting and list elements.\n",
        "string_list = ['1', '2', '3', '4']\n",
        "\n",
        "int_list = [int(i) for i in string_list]\n",
        "print(\"List with integer elements:\", int_list)\n",
        "\n",
        "float_list = [float(i) for i in int_list]\n",
        "print(\"List with float elements:\", float_list)\n",
        "\n",
        "string_from_float = [str(i) for i in float_list]\n",
        "print(\"List with string elements:\", string_from_float)"
      ],
      "metadata": {
        "colab": {
          "base_uri": "https://localhost:8080/"
        },
        "id": "OssYUFpqSRdh",
        "outputId": "6e8498d9-66da-4b8f-c9b7-80909800102c"
      },
      "execution_count": 13,
      "outputs": [
        {
          "output_type": "stream",
          "name": "stdout",
          "text": [
            "List with integer elements: [1, 2, 3, 4]\n",
            "List with float elements: [1.0, 2.0, 3.0, 4.0]\n",
            "List with string elements: ['1.0', '2.0', '3.0', '4.0']\n"
          ]
        }
      ]
    },
    {
      "cell_type": "code",
      "source": [
        "#11. Write a program that checks if a number is positive, negative, or zero.\n",
        "number = float(input(\"Enter a number: \"))\n",
        "\n",
        "if number > 0:\n",
        "    print(\"The number is positive.\")\n",
        "elif number < 0:\n",
        "    print(\"The number is negative.\")\n",
        "else:\n",
        "    print(\"The number is zero.\")"
      ],
      "metadata": {
        "colab": {
          "base_uri": "https://localhost:8080/"
        },
        "id": "esjTTaLmS28a",
        "outputId": "b65dfcc8-f71e-4a8d-c030-64db57d3effe"
      },
      "execution_count": 14,
      "outputs": [
        {
          "output_type": "stream",
          "name": "stdout",
          "text": [
            "Enter a number: -5\n",
            "The number is negative.\n"
          ]
        }
      ]
    },
    {
      "cell_type": "code",
      "source": [
        "#12. Write a for loop to print number from 1 to 10.\n",
        "for i in range(1, 11):\n",
        "  print(i)"
      ],
      "metadata": {
        "colab": {
          "base_uri": "https://localhost:8080/"
        },
        "id": "OObhCVRQTaMj",
        "outputId": "5c54f208-2367-44e7-9eb1-8e2409312f81"
      },
      "execution_count": 17,
      "outputs": [
        {
          "output_type": "stream",
          "name": "stdout",
          "text": [
            "1\n",
            "2\n",
            "3\n",
            "4\n",
            "5\n",
            "6\n",
            "7\n",
            "8\n",
            "9\n",
            "10\n"
          ]
        }
      ]
    },
    {
      "cell_type": "code",
      "source": [
        "# 13. Write a python program to find the sum of all even numbers between 1 to 50.\n",
        "sum_even = 0\n",
        "for i in range(1, 51):\n",
        "    if i % 2 == 0:\n",
        "        sum_even += i\n",
        "print(\"Sum of all even numbers between 1 and 50:\", sum_even)"
      ],
      "metadata": {
        "colab": {
          "base_uri": "https://localhost:8080/"
        },
        "id": "bAKwJ3ahT4Rb",
        "outputId": "36d8c86a-db3e-48c8-98c9-85b60c714506"
      },
      "execution_count": 18,
      "outputs": [
        {
          "output_type": "stream",
          "name": "stdout",
          "text": [
            "Sum of all even numbers between 1 and 50: 650\n"
          ]
        }
      ]
    },
    {
      "cell_type": "code",
      "source": [
        "#14. Write a program to reverse a string using a while loop.\n",
        "input_string = \"Hello, World!\"\n",
        "reversed_string = \"\"\n",
        "index = len(input_string) - 1\n",
        "while index >= 0:\n",
        "    reversed_string += input_string[index]\n",
        "    index -= 1\n",
        "print(\"Reversed string:\", reversed_string)"
      ],
      "metadata": {
        "colab": {
          "base_uri": "https://localhost:8080/"
        },
        "id": "bVKnmUyFUdQ1",
        "outputId": "cbe0f504-f4f6-4306-ce70-b4b50c07f421"
      },
      "execution_count": 19,
      "outputs": [
        {
          "output_type": "stream",
          "name": "stdout",
          "text": [
            "Reversed string: !dlroW ,olleH\n"
          ]
        }
      ]
    },
    {
      "cell_type": "code",
      "source": [
        "#15. Write a python program to calculate the factorial of a number provided by the user using a while loop.\n",
        "num = int(input(\"Enter a number to calculate its factorial: \"))\n",
        "factorial = 1\n",
        "if num < 0:\n",
        "    print(\"Factorial is not defined for negative numbers.\")\n",
        "else:\n",
        "    while num > 1:\n",
        "        factorial *= num\n",
        "        num -= 1\n",
        "    print(\"Factorial is:\", factorial)"
      ],
      "metadata": {
        "colab": {
          "base_uri": "https://localhost:8080/"
        },
        "id": "0Zc6wwnaU3kK",
        "outputId": "4aab794a-34f8-4b91-8b84-995b00511347"
      },
      "execution_count": 20,
      "outputs": [
        {
          "output_type": "stream",
          "name": "stdout",
          "text": [
            "Enter a number to calculate its factorial: 6\n",
            "Factorial is: 720\n"
          ]
        }
      ]
    }
  ]
}